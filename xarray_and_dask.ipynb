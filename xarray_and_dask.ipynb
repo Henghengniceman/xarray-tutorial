{
 "cells": [
  {
   "cell_type": "markdown",
   "metadata": {},
   "source": [
    "# Xarray and Dask\n"
   ]
  },
  {
   "cell_type": "code",
   "execution_count": 1,
   "metadata": {
    "execution": {
     "iopub.execute_input": "2020-12-28T18:57:31.094788Z",
     "iopub.status.busy": "2020-12-28T18:57:31.094222Z",
     "iopub.status.idle": "2020-12-28T18:57:31.667956Z",
     "shell.execute_reply": "2020-12-28T18:57:31.668298Z"
    }
   },
   "outputs": [],
   "source": [
    "import xarray as xr\n",
    "from dask.distributed import Client"
   ]
  }
 ],
 "metadata": {
  "kernelspec": {
   "display_name": "Python 3",
   "language": "python",
   "name": "python3"
  },
  "language_info": {
   "codemirror_mode": {
    "name": "ipython",
    "version": 3
   },
   "file_extension": ".py",
   "mimetype": "text/x-python",
   "name": "python",
   "nbconvert_exporter": "python",
   "pygments_lexer": "ipython3",
   "version": "3.8.6"
  }
 },
 "nbformat": 4,
 "nbformat_minor": 4
}
